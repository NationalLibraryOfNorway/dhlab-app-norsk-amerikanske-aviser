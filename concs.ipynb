{
 "cells": [
  {
   "cell_type": "code",
   "execution_count": 5,
   "metadata": {},
   "outputs": [],
   "source": [
    "import dhlab.text as dh\n",
    "import dhlab.api.dhlab_api as api\n",
    "import pandas as pd"
   ]
  },
  {
   "cell_type": "code",
   "execution_count": 6,
   "metadata": {},
   "outputs": [],
   "source": [
    "def make_corpus():\n",
    "    urns = pd.read_csv('norske_aviser.csv', index_col = 0)\n",
    "    #corpus = dh.CorpusFromIdentifiers(list(urns.urn.values))\n",
    "    return urns #corpus"
   ]
  },
  {
   "cell_type": "code",
   "execution_count": 23,
   "metadata": {},
   "outputs": [],
   "source": [
    "def show_konks(conc, query):\n",
    "    conc['link'] = conc['urn'].apply(lambda c: f\"[{c.split('_')[2]}](https://www.nb.no/items/{c}?searchText={query})\")\n",
    "    conc['date'] = conc['urn'].apply(lambda c: f\"{c.split('_')[5][:8]}\")\n",
    "    conc['conc'] = conc['conc'].apply(lambda c: c.replace('<b>', '**').replace('</b>','**'))\n",
    "    return conc[['link','date','conc']].sort_values(by = 'date')"
   ]
  },
  {
   "cell_type": "code",
   "execution_count": 7,
   "metadata": {},
   "outputs": [],
   "source": [
    "corpus = make_corpus()"
   ]
  },
  {
   "cell_type": "code",
   "execution_count": 10,
   "metadata": {},
   "outputs": [],
   "source": [
    "samplesize = 10"
   ]
  },
  {
   "cell_type": "code",
   "execution_count": 8,
   "metadata": {},
   "outputs": [],
   "source": [
    "search = \"utenordm*\""
   ]
  },
  {
   "cell_type": "code",
   "execution_count": 24,
   "metadata": {},
   "outputs": [
    {
     "data": {
      "text/plain": [
       "'5 [norroena](https://www.nb.no/items/URN:NBN:no-nb_digavis_norroena_null_null_19440309_35_10_1?searchText=utenordm*) 19440309 ... desember 1940 ble grunnen lagt til en fullstendig total verneplikt blandt **utenordmenn** i alderen 18 til 55 år . Ved denne ordning har landet kunnet... \\n\\n2 [viking](https://www.nb.no/items/URN:NBN:no-nb_digavis_viking_null_null_19540520_13_20_1?searchText=utenordm*) 19540520 ... Historien , utviklingen begynte derfor tidlig å veve sterke vennskapsbånd ikke bare mellom hjemme- og **utenordmenn** , men mellom våre nasjoner som sådanne . De... \\n\\n7 [nordisktidende](https://www.nb.no/items/URN:NBN:no-nb_digavis_nordisktidende_null_null_19671109_76_45_1?searchText=utenordm*) 19671109 **Utenordmann**\\n\\n6 [nordisktidende](https://www.nb.no/items/URN:NBN:no-nb_digavis_nordisktidende_null_null_19671109_76_45_1?searchText=utenordm*) 19671109 **Utenordmann** fra krigen har skrevet omstridt bok om “ Nortraship ”\\n\\n8 [nordisktidende](https://www.nb.no/items/URN:NBN:no-nb_digavis_nordisktidende_null_null_19680905_77_36_1?searchText=utenordm*) 19680905 ... Velsignet er det da å befinne seg i et miljø hvor **utenordmenn** alltid sørger for at man ikke et øyeblikk glemmer hvor på denne jord... \\n\\n9 [nordisktidende](https://www.nb.no/items/URN:NBN:no-nb_digavis_nordisktidende_null_null_19690410_78_15_1?searchText=utenordm*) 19690410 ... Alle **utenordmenn** burde lese reportasjen , da bare utdrag av den kan gjengis her . Det er ikke nok til å gjøre øyet stort og... \\n\\n10 [nordisktidende](https://www.nb.no/items/URN:NBN:no-nb_digavis_nordisktidende_null_null_19690612_78_24_1?searchText=utenordm*) 19690612 ... Alle hans venner blant **utenordmenn** bør sette merke på kalendereji . ved 17. august 1969. Da fyller Torolv Kandahl 70 år . Blant nordmenn som... \\n\\n12 [nordisktidende](https://www.nb.no/items/URN:NBN:no-nb_digavis_nordisktidende_null_null_19700730_79_31_1?searchText=utenordm*) 19700730 **Utenordmannen** Thor Heyerdahl\\n\\n14 [nordisktidende](https://www.nb.no/items/URN:NBN:no-nb_digavis_nordisktidende_null_null_19830120_93_3_1?searchText=utenordm*) 19830120 ... Dette er en 20 minutters \" serviceradio \" for ulike grupper av **utenordmenn** , og en toveis kontakt mellom organisasjoner , bedrifter , foreninger , myndigheter og... \\n\\n0 [nordisktidende](https://www.nb.no/items/URN:NBN:no-nb_digavis_nordisktidende_null_null_19921217_102_46_1?searchText=utenordm*) 19921217 ... , var det bare å ta en tur ut og oppleve hva **utenordmenn** satt inne med av følelser og entusiasme for Norge . Gang på... '"
      ]
     },
     "execution_count": 24,
     "metadata": {},
     "output_type": "execute_result"
    }
   ],
   "source": [
    "konks = api.concordance(urns=list(corpus.urn.values), words=search, limit = 5000)\n",
    "\n",
    "if (samplesize < len(konks)):\n",
    "    konkordanser = '\\n\\n'.join(\n",
    "    [' '.join([str(y) for y in x]) for x in \n",
    "     show_konks(konks.sample(min(int(samplesize), len(konks))), search).itertuples()])\n",
    "konkordanser"
   ]
  },
  {
   "cell_type": "code",
   "execution_count": 18,
   "metadata": {},
   "outputs": [
    {
     "data": {
      "text/plain": [
       "array(['URN:NBN:no-nb_digavis_nordisktidende_null_null_19921217_102_46_1',\n",
       "       'URN:NBN:no-nb_digavis_viking_null_null_19500427_9_17_1',\n",
       "       'URN:NBN:no-nb_digavis_viking_null_null_19540520_13_20_1',\n",
       "       'URN:NBN:no-nb_digavis_normanden_null_null_19440217_58_7_1',\n",
       "       'URN:NBN:no-nb_digavis_norroena_null_null_19440210_35_6_1',\n",
       "       'URN:NBN:no-nb_digavis_norroena_null_null_19440309_35_10_1',\n",
       "       'URN:NBN:no-nb_digavis_nordisktidende_null_null_19671109_76_45_1',\n",
       "       'URN:NBN:no-nb_digavis_nordisktidende_null_null_19671109_76_45_1',\n",
       "       'URN:NBN:no-nb_digavis_nordisktidende_null_null_19680905_77_36_1',\n",
       "       'URN:NBN:no-nb_digavis_nordisktidende_null_null_19690410_78_15_1',\n",
       "       'URN:NBN:no-nb_digavis_nordisktidende_null_null_19690612_78_24_1',\n",
       "       'URN:NBN:no-nb_digavis_nordisktidende_null_null_19700514_79_20_1',\n",
       "       'URN:NBN:no-nb_digavis_nordisktidende_null_null_19700730_79_31_1',\n",
       "       'URN:NBN:no-nb_digavis_nordisktidende_null_null_19700730_79_31_1',\n",
       "       'URN:NBN:no-nb_digavis_nordisktidende_null_null_19830120_93_3_1'],\n",
       "      dtype=object)"
      ]
     },
     "execution_count": 18,
     "metadata": {},
     "output_type": "execute_result"
    }
   ],
   "source": [
    "konks.urn.values"
   ]
  }
 ],
 "metadata": {
  "kernelspec": {
   "display_name": "Python 3",
   "language": "python",
   "name": "python3"
  },
  "language_info": {
   "codemirror_mode": {
    "name": "ipython",
    "version": 3
   },
   "file_extension": ".py",
   "mimetype": "text/x-python",
   "name": "python",
   "nbconvert_exporter": "python",
   "pygments_lexer": "ipython3",
   "version": "3.8.1"
  }
 },
 "nbformat": 4,
 "nbformat_minor": 4
}
