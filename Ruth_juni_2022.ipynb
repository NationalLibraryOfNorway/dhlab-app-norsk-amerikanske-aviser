{
 "cells": [
  {
   "cell_type": "markdown",
   "id": "84302fb7-f88d-4301-9cbb-4fed0a746ee6",
   "metadata": {},
   "source": [
    "Fra mail:\n",
    "\n",
    "Duluth Skandinav (1938-61)\n",
    "\n",
    "Fergus Falls Ukeblad (1935-1944)\n",
    "\n",
    "Fædrelandet og Emigranten (1885)\n",
    "\n",
    "Minneapolis Posten (1948-57)\n",
    "\n",
    "Minneapolis Tidende (1922-35)\n",
    "\n",
    "Minnesota Posten (1956-79)\n",
    "\n",
    "Nordisk Folkeblad (1888-1889)\n",
    "\n",
    "Nordiske Blade (1885)\n",
    "\n",
    "Scandinavian News (1941-45)\n",
    "\n",
    "Washington Posten (1928-32)\n",
    "\n",
    "Western Viking (1961-86)\n",
    "\n",
    " \n",
    "\n",
    "Fint også med oversikt over hver avis og utgaver.\n",
    "\n",
    " \n",
    "\n",
    "Mht. konkordanser: nå ser det ikke ut som jeg får treff i kronologisk rekkefølge, selv ikke når jeg velger å vise alle treff. Det vises etter titler, men heller ikke kronologisk innen hver tittel. Dato kommer bare opp som hypertekst over hver tittel.  Er det mulig å gjøre noe med dette?\n",
    "\n",
    "Er det mulig å få ut en ngram-visning basert på dette korpuset?\n",
    "\n",
    "Er det evt. også mulig å få opp kollokasjoner?"
   ]
  },
  {
   "cell_type": "code",
   "execution_count": 4,
   "id": "98f9ed05-f2a2-4e63-96f6-36603114f6ca",
   "metadata": {},
   "outputs": [],
   "source": [
    "import dhlab as dh\n",
    "import dhlab.text as dt"
   ]
  },
  {
   "cell_type": "code",
   "execution_count": 2,
   "id": "87321884-aba9-438c-9627-67e2a691d474",
   "metadata": {},
   "outputs": [],
   "source": [
    "import pandas as pd\n"
   ]
  },
  {
   "cell_type": "code",
   "execution_count": 3,
   "id": "780ca9dc-577c-48f1-9212-75822847dba8",
   "metadata": {},
   "outputs": [],
   "source": [
    "cr = pd.read_csv(\"norske_aviser.csv\", index_col = 0)"
   ]
  },
  {
   "cell_type": "code",
   "execution_count": 8,
   "id": "d68e76a1-4e36-4db8-b677-916690bf5672",
   "metadata": {},
   "outputs": [],
   "source": [
    "corpus = dt.CorpusFromIdentifiers(identifiers=list(cr.urn))"
   ]
  },
  {
   "cell_type": "code",
   "execution_count": 51,
   "id": "e405d31d-03ed-4075-8fee-ef8545ea81b0",
   "metadata": {},
   "outputs": [
    {
     "data": {
      "text/plain": [
       "648"
      ]
     },
     "execution_count": 51,
     "metadata": {},
     "output_type": "execute_result"
    }
   ],
   "source": [
    "c1 = dh.Corpus(doctype='digavis', title=\"western*\", from_year = 1800, limit=20000)\n",
    "c1.size"
   ]
  },
  {
   "cell_type": "code",
   "execution_count": 52,
   "id": "1e0bb47e-6f86-4b17-9224-8cac7515ce5e",
   "metadata": {},
   "outputs": [],
   "source": [
    "corpus.add(c1)"
   ]
  },
  {
   "cell_type": "code",
   "execution_count": 53,
   "id": "ffb91f97-837e-4938-b946-d9391a4478db",
   "metadata": {},
   "outputs": [
    {
     "data": {
      "text/plain": [
       "21879"
      ]
     },
     "execution_count": 53,
     "metadata": {},
     "output_type": "execute_result"
    }
   ],
   "source": [
    "corpus.size"
   ]
  },
  {
   "cell_type": "code",
   "execution_count": 56,
   "id": "e68fba68-8fff-43ae-88c1-f100da8940f1",
   "metadata": {},
   "outputs": [],
   "source": [
    "corpus.corpus.iloc[2:].to_csv(\"norskamerikanske_juni_2022.csv\", header=True)"
   ]
  },
  {
   "cell_type": "code",
   "execution_count": 94,
   "id": "0d9d441a-b6d5-44e8-8672-698dea35baa7",
   "metadata": {},
   "outputs": [],
   "source": [
    "c = dh.Counts(corpus=corpus, words = ['og', 'i', '.'])"
   ]
  },
  {
   "cell_type": "code",
   "execution_count": 95,
   "id": "17f2bd87-3527-46f4-8238-cf0212bcb856",
   "metadata": {},
   "outputs": [
    {
     "data": {
      "text/plain": [
       ".     3194262.0\n",
       "i      866459.0\n",
       "og     865489.0\n",
       "dtype: float64"
      ]
     },
     "execution_count": 95,
     "metadata": {},
     "output_type": "execute_result"
    }
   ],
   "source": [
    "c.counts.transpose().sum()"
   ]
  },
  {
   "cell_type": "code",
   "execution_count": null,
   "id": "db8bee95-21bc-4cb6-9f1b-af0ff7fd1f5b",
   "metadata": {},
   "outputs": [],
   "source": []
  }
 ],
 "metadata": {
  "kernelspec": {
   "display_name": "Python 3 (ipykernel)",
   "language": "python",
   "name": "python3"
  },
  "language_info": {
   "codemirror_mode": {
    "name": "ipython",
    "version": 3
   },
   "file_extension": ".py",
   "mimetype": "text/x-python",
   "name": "python",
   "nbconvert_exporter": "python",
   "pygments_lexer": "ipython3",
   "version": "3.9.7"
  }
 },
 "nbformat": 4,
 "nbformat_minor": 5
}
