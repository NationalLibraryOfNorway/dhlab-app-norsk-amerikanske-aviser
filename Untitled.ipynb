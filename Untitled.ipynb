{
 "cells": [
  {
   "cell_type": "markdown",
   "id": "710f95f4-fd16-48cb-b5e2-8be85034f84f",
   "metadata": {},
   "source": [
    "# Amerika og aviser publisert der\n",
    "\n",
    "Her lages et korpus over utgivelsene"
   ]
  },
  {
   "cell_type": "code",
   "execution_count": 1,
   "id": "08259ec8-ab7c-4284-bbe2-42707a1b4335",
   "metadata": {},
   "outputs": [],
   "source": [
    "import dhlab.module_update as mu\n",
    "import dhlab.text as dh"
   ]
  },
  {
   "cell_type": "code",
   "execution_count": 3,
   "id": "4cc94c5e-b238-4843-81e3-2a2158c9e84d",
   "metadata": {},
   "outputs": [
    {
     "data": {
      "text/html": [
       "<style>@import url(http://fonts.googleapis.com/css?family=Lato|Philosopher|Montserrat|Source+Code+Pro|Merriweather|Shippori+Mincho|Istok+Web|Philosopher|Assistant:200,400,700);\n",
       "\n",
       "p {\n",
       "    font-size:1.3em;\n",
       "    font-family:serif;\n",
       "    line-height:1.4em;\n",
       "    color:#142850;\n",
       "}\n",
       "h1, h2, h3, h4 {\n",
       "    color:#27496d;\n",
       "}\n",
       "\n",
       "/*\n",
       ".prompt, .jp-InputPrompt, .jp-InputArea-prompt, .jp-OutputPrompt, .jp-OutputArea-prompt {\n",
       "    visibility: hidden; \n",
       "}\n",
       "\n",
       "\n",
       ".jp-CodeCell .jp-Notebook-cell    {\n",
       "    margin-left:10%;\n",
       "    margin-right:5%;\n",
       "}\n",
       "\n",
       "\n",
       ".jp-InputArea, .jp-OutputArea {\n",
       "    margin-left:2.5em;\n",
       "    margin-right:2.5em;\n",
       "}\n",
       "*/\n",
       "\n",
       "\n",
       "body  {\n",
       "    margin:10%;\n",
       "    counter-reset: h1counter;\n",
       "\n",
       "}\n",
       "\n",
       "/* .jp-MarkdownOutput, .text_cell_render {\n",
       "\n",
       "    background-color:#FEFBF1;    \n",
       "    border-style: solid;\n",
       "    border-width: 1px;\n",
       "    border-color: rgba(0,0,0, 0.10);;\n",
       "} */\n",
       "\n",
       "\n",
       "h1:after {\n",
       "    content: \"\"; /* This is necessary for the pseudo element to work. */ \n",
       "    display: block; /* This will put the pseudo element on its own line. */\n",
       "    /*margin: 0 auto; This will center the border. */\n",
       "    width: 50%; /* Change this to whatever width you want. */\n",
       "    padding-top: 10px;\n",
       "    border-bottom:3px solid SlateGray; /* FireBrick; */\n",
       "}\n",
       "\n",
       "h2:after {\n",
       "    content: \"\"; /* This is necessary for the pseudo element to work. */ \n",
       "    display: block; /* This will put the pseudo element on its own line. */\n",
       "    /*margin: 0 auto; This will center the border. */\n",
       "    width: 30%; /* Change this to whatever width you want. */\n",
       "    padding-top: 10px;\n",
       "    border-bottom:2px solid SlateGray; /* FireBrick; */\n",
       "}\n",
       "\n",
       "</style>"
      ],
      "text/plain": [
       "<IPython.core.display.HTML object>"
      ]
     },
     "execution_count": 3,
     "metadata": {},
     "output_type": "execute_result"
    }
   ],
   "source": [
    "mu.css()"
   ]
  },
  {
   "cell_type": "code",
   "execution_count": 78,
   "id": "619d92c1-802e-40bc-a8b8-54d57424e6a7",
   "metadata": {},
   "outputs": [],
   "source": [
    "aviser = \"\"\"Nordisk Tidende (1891-1992)\n",
    "\n",
    "Amerika (1884-1885)\n",
    "\n",
    "DecorahPosten (1905-1970)\n",
    "\n",
    "Duluth Skandinav (1938-61)\n",
    "\n",
    "Fergus Falls Ukeblad (1935-1944)\n",
    "\n",
    "Fremad (1896-1931)\n",
    "\n",
    "Fædrelandet og Emigranten (1885)\n",
    "\n",
    "Minneapolis Posten (1948-57)\n",
    "\n",
    "Minneapolis Tidende (1922-35)\n",
    "\n",
    "Minnesota Posten (1956-79)\n",
    "\n",
    "Norden (1885-1890)\n",
    "\n",
    "Nordisk Folkeblad (1888-1889)\n",
    "\n",
    "Nordiske Blade (1885)\n",
    "\n",
    "Norgesposten (1924-33)\n",
    "\n",
    "Norrøna (1935-84)\n",
    "\n",
    "Reform (1936-41)\n",
    "\n",
    "Scandia (1919-39)\n",
    "\n",
    "Scandinavian News (1941-45)\n",
    "\n",
    "Skandinaven (1884-1940)\n",
    "\n",
    "Viking (1948-86)\n",
    "\n",
    "Visergutten (1941-55)\n",
    "\n",
    "Washington Posten (1928-32)\n",
    "\n",
    "Western Viking (1961-86)\"\"\".split('\\n')"
   ]
  },
  {
   "cell_type": "code",
   "execution_count": 79,
   "id": "271a2239-34cd-4810-b4e5-67374ec6d472",
   "metadata": {},
   "outputs": [],
   "source": [
    "aviser = [x for x in aviser if x != '']"
   ]
  },
  {
   "cell_type": "code",
   "execution_count": 80,
   "id": "27f2c439-d628-42f5-bd30-888490de8c12",
   "metadata": {},
   "outputs": [],
   "source": [
    "import re"
   ]
  },
  {
   "cell_type": "code",
   "execution_count": 81,
   "id": "1f554cde-8f31-417b-8cfc-a88be1fbfc77",
   "metadata": {},
   "outputs": [],
   "source": [
    "avis = [re.findall(\"(.*)\\(([0-9]{4})-?(.*)\\)\", x)[0] for x in aviser]"
   ]
  },
  {
   "cell_type": "code",
   "execution_count": 82,
   "id": "d6f8ee7e-8e67-49a6-bac0-1f98ee0c81e4",
   "metadata": {},
   "outputs": [],
   "source": [
    "aviscorpus = dict()\n",
    "for t, fy, ty in avis:\n",
    "    t = t.strip()\n",
    "    t = t.lower()\n",
    "    t = ''.join(t.split())\n",
    "    try:\n",
    "        aviscorpus[t] = dh.Corpus(title = t, limit = 100000)\n",
    "    except:\n",
    "        print(t)\n"
   ]
  },
  {
   "cell_type": "code",
   "execution_count": 83,
   "id": "311fe0d0-db43-4d79-a680-13acebf00956",
   "metadata": {},
   "outputs": [],
   "source": [
    "import pandas as pd"
   ]
  },
  {
   "cell_type": "code",
   "execution_count": 84,
   "id": "ad4aeb21-f04e-4b61-8e69-bc7e672b5050",
   "metadata": {},
   "outputs": [],
   "source": [
    "tot = pd.concat([aviscorpus[a].corpus for a  in aviscorpus])"
   ]
  },
  {
   "cell_type": "code",
   "execution_count": 85,
   "id": "bf62642f-2391-4361-9182-13eb509e506d",
   "metadata": {},
   "outputs": [],
   "source": [
    "tot[\"dhlabid urn title doctype timestamp year\".split()].to_csv(\"norske_aviser.csv\")"
   ]
  }
 ],
 "metadata": {
  "kernelspec": {
   "display_name": "Python 3 (ipykernel)",
   "language": "python",
   "name": "python3"
  },
  "language_info": {
   "codemirror_mode": {
    "name": "ipython",
    "version": 3
   },
   "file_extension": ".py",
   "mimetype": "text/x-python",
   "name": "python",
   "nbconvert_exporter": "python",
   "pygments_lexer": "ipython3",
   "version": "3.9.7"
  }
 },
 "nbformat": 4,
 "nbformat_minor": 5
}
